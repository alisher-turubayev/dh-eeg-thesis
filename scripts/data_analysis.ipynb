{
 "cells": [
  {
   "attachments": {},
   "cell_type": "markdown",
   "metadata": {},
   "source": [
    "# Data Analysis Script\n",
    "##### Hasso-Plattner Institute - HPI | University of Potsdam, Germany\n",
    "##### Work completed by Alisher Turubayev (Fabian Stolp, PhD supervisor)\n",
    "\n",
    "This notebook contains all code that was used to generate figures/tables for the thesis submission. Original data is available in the `replication_data` folder,"
   ]
  },
  {
   "attachments": {},
   "cell_type": "markdown",
   "metadata": {},
   "source": [
    "## Data exploration\n",
    "\n",
    "### Task 1\n",
    "Task: calculate mean/std time per task to present in the paper"
   ]
  },
  {
   "cell_type": "code",
   "execution_count": 20,
   "metadata": {},
   "outputs": [],
   "source": [
    "import matplotlib.pyplot as plt\n",
    "import pandas as pd\n",
    "import numpy as np\n",
    "import os"
   ]
  },
  {
   "cell_type": "code",
   "execution_count": 13,
   "metadata": {},
   "outputs": [],
   "source": [
    "PARTICIPANTS = ['S01', 'S03', 'S04', 'S05', 'S07', 'S08', 'S09', 'S10', 'S11', \n",
    "    'S12', 'S13', 'S14', 'S16', 'S17', 'S18', 'S19', 'S20', 'S21', 'S22', 'S23', \n",
    "    'S24', 'S25', 'S26', 'S27', 'S28', 'S29', 'S30']\n",
    "# File associations\n",
    "FILE_SUFFIXES = {\n",
    "    'task1': 'R01_an_ev.txt', \n",
    "    'task2': 'R02_an_ev.txt', \n",
    "    'task3': 'R03_an_ev.txt'\n",
    "}\n",
    "FILES_PATH = './replication_data/event_data'"
   ]
  },
  {
   "cell_type": "code",
   "execution_count": 18,
   "metadata": {},
   "outputs": [
    {
     "name": "stdout",
     "output_type": "stream",
     "text": [
      "  A file for participant S09 was not found. Continuing...\n",
      "  A file for participant S10 was not found. Continuing...\n",
      "  A file for participant S11 was not found. Continuing...\n",
      "  A file for participant S12 was not found. Continuing...\n",
      "  A file for participant S13 was not found. Continuing...\n",
      "  A file for participant S14 was not found. Continuing...\n"
     ]
    }
   ],
   "source": [
    "task1_durations = []\n",
    "task2_durations = []\n",
    "task3_durations = []\n",
    "\n",
    "# Load events, extract latency for end of task and beginning of task, and note the difference\n",
    "for participant_name in PARTICIPANTS:\n",
    "    task1_path = os.path.join(FILES_PATH, (participant_name + FILE_SUFFIXES['task1']))\n",
    "    task2_path = os.path.join(FILES_PATH, (participant_name + FILE_SUFFIXES['task2']))\n",
    "    task3_path = os.path.join(FILES_PATH, (participant_name + FILE_SUFFIXES['task3']))\n",
    "    \n",
    "    if os.path.isfile(task1_path) == False or os.path.isfile(task2_path) == False or os.path.isfile(task3_path) == False:\n",
    "        print(f'  A file for participant {participant_name} was not found. Continuing...')\n",
    "        continue\n",
    "    df = pd.read_table(task1_path, sep = ',', header = 0, index_col = None)\n",
    "    time_start = df.iloc[3]['latency']\n",
    "    time_end = df.iloc[4]['latency']\n",
    "    task1_durations.append(time_end - time_start)\n",
    "    \n",
    "    df = pd.read_table(task2_path, sep = ',', header = 0, index_col = None)\n",
    "    time_start = df.iloc[3]['latency']\n",
    "    time_end = df.iloc[4]['latency']\n",
    "    task2_durations.append(time_end - time_start)\n",
    "\n",
    "    df = pd.read_table(task3_path, sep = ',', header = 0, index_col = None)\n",
    "    time_start = df.iloc[3]['latency']\n",
    "    time_end = df.iloc[4]['latency']\n",
    "    task3_durations.append(time_end - time_start)"
   ]
  },
  {
   "cell_type": "code",
   "execution_count": 79,
   "metadata": {},
   "outputs": [
    {
     "data": {
      "image/png": "[encoded data removed]",
      "text/plain": [
       "<Figure size 640x480 with 1 Axes>"
      ]
     },
     "metadata": {},
     "output_type": "display_data"
    }
   ],
   "source": [
    "bplot = plt.boxplot([task1_durations, task2_durations, task3_durations], vert = True, patch_artist = True, labels = ['Task 1', 'Task 2', 'Task 3'])\n",
    "plt.ylim(0, 650)\n",
    "plt.ylabel('Duration (in seconds)')\n",
    "colors = ['pink', 'lightblue', 'lightgreen']\n",
    "for patch, color in zip(bplot['boxes'], colors):\n",
    "    patch.set_facecolor(color)"
   ]
  },
  {
   "cell_type": "code",
   "execution_count": 58,
   "metadata": {},
   "outputs": [],
   "source": [
    "# Transform data to dataframe for .describe() summary\n",
    "df = pd.DataFrame.from_dict({\n",
    "    'Task 1': task1_durations, \n",
    "    'Task 2': task2_durations,\n",
    "    'Task 3': task3_durations\n",
    "})"
   ]
  },
  {
   "cell_type": "code",
   "execution_count": 59,
   "metadata": {},
   "outputs": [
    {
     "data": {
      "text/html": [
       "<div>\n",
       "<style scoped>\n",
       "    .dataframe tbody tr th:only-of-type {\n",
       "        vertical-align: middle;\n",
       "    }\n",
       "\n",
       "    .dataframe tbody tr th {\n",
       "        vertical-align: top;\n",
       "    }\n",
       "\n",
       "    .dataframe thead th {\n",
       "        text-align: right;\n",
       "    }\n",
       "</style>\n",
       "<table border=\"1\" class=\"dataframe\">\n",
       "  <thead>\n",
       "    <tr style=\"text-align: right;\">\n",
       "      <th></th>\n",
       "      <th>Task 1</th>\n",
       "      <th>Task 2</th>\n",
       "      <th>Task 3</th>\n",
       "    </tr>\n",
       "  </thead>\n",
       "  <tbody>\n",
       "    <tr>\n",
       "      <th>0</th>\n",
       "      <td>166.363</td>\n",
       "      <td>600.051</td>\n",
       "      <td>600.086</td>\n",
       "    </tr>\n",
       "    <tr>\n",
       "      <th>1</th>\n",
       "      <td>66.454</td>\n",
       "      <td>600.098</td>\n",
       "      <td>600.090</td>\n",
       "    </tr>\n",
       "    <tr>\n",
       "      <th>2</th>\n",
       "      <td>194.447</td>\n",
       "      <td>600.103</td>\n",
       "      <td>600.099</td>\n",
       "    </tr>\n",
       "    <tr>\n",
       "      <th>3</th>\n",
       "      <td>33.905</td>\n",
       "      <td>519.548</td>\n",
       "      <td>583.018</td>\n",
       "    </tr>\n",
       "    <tr>\n",
       "      <th>4</th>\n",
       "      <td>117.304</td>\n",
       "      <td>600.103</td>\n",
       "      <td>600.102</td>\n",
       "    </tr>\n",
       "    <tr>\n",
       "      <th>5</th>\n",
       "      <td>64.650</td>\n",
       "      <td>600.103</td>\n",
       "      <td>600.055</td>\n",
       "    </tr>\n",
       "    <tr>\n",
       "      <th>6</th>\n",
       "      <td>177.047</td>\n",
       "      <td>600.099</td>\n",
       "      <td>600.103</td>\n",
       "    </tr>\n",
       "    <tr>\n",
       "      <th>7</th>\n",
       "      <td>75.502</td>\n",
       "      <td>600.115</td>\n",
       "      <td>600.071</td>\n",
       "    </tr>\n",
       "    <tr>\n",
       "      <th>8</th>\n",
       "      <td>71.747</td>\n",
       "      <td>600.116</td>\n",
       "      <td>600.091</td>\n",
       "    </tr>\n",
       "    <tr>\n",
       "      <th>9</th>\n",
       "      <td>93.824</td>\n",
       "      <td>600.116</td>\n",
       "      <td>600.119</td>\n",
       "    </tr>\n",
       "    <tr>\n",
       "      <th>10</th>\n",
       "      <td>95.740</td>\n",
       "      <td>600.103</td>\n",
       "      <td>600.063</td>\n",
       "    </tr>\n",
       "    <tr>\n",
       "      <th>11</th>\n",
       "      <td>100.755</td>\n",
       "      <td>600.119</td>\n",
       "      <td>541.921</td>\n",
       "    </tr>\n",
       "    <tr>\n",
       "      <th>12</th>\n",
       "      <td>64.951</td>\n",
       "      <td>600.119</td>\n",
       "      <td>600.071</td>\n",
       "    </tr>\n",
       "    <tr>\n",
       "      <th>13</th>\n",
       "      <td>65.418</td>\n",
       "      <td>323.820</td>\n",
       "      <td>600.103</td>\n",
       "    </tr>\n",
       "    <tr>\n",
       "      <th>14</th>\n",
       "      <td>77.155</td>\n",
       "      <td>600.100</td>\n",
       "      <td>600.083</td>\n",
       "    </tr>\n",
       "    <tr>\n",
       "      <th>15</th>\n",
       "      <td>300.071</td>\n",
       "      <td>351.869</td>\n",
       "      <td>600.051</td>\n",
       "    </tr>\n",
       "    <tr>\n",
       "      <th>16</th>\n",
       "      <td>62.746</td>\n",
       "      <td>600.103</td>\n",
       "      <td>600.051</td>\n",
       "    </tr>\n",
       "    <tr>\n",
       "      <th>17</th>\n",
       "      <td>61.043</td>\n",
       "      <td>600.119</td>\n",
       "      <td>600.099</td>\n",
       "    </tr>\n",
       "    <tr>\n",
       "      <th>18</th>\n",
       "      <td>36.197</td>\n",
       "      <td>600.115</td>\n",
       "      <td>600.119</td>\n",
       "    </tr>\n",
       "    <tr>\n",
       "      <th>19</th>\n",
       "      <td>65.402</td>\n",
       "      <td>600.099</td>\n",
       "      <td>579.295</td>\n",
       "    </tr>\n",
       "    <tr>\n",
       "      <th>20</th>\n",
       "      <td>85.855</td>\n",
       "      <td>600.119</td>\n",
       "      <td>600.115</td>\n",
       "    </tr>\n",
       "  </tbody>\n",
       "</table>\n",
       "</div>"
      ],
      "text/plain": [
       "     Task 1   Task 2   Task 3\n",
       "0   166.363  600.051  600.086\n",
       "1    66.454  600.098  600.090\n",
       "2   194.447  600.103  600.099\n",
       "3    33.905  519.548  583.018\n",
       "4   117.304  600.103  600.102\n",
       "5    64.650  600.103  600.055\n",
       "6   177.047  600.099  600.103\n",
       "7    75.502  600.115  600.071\n",
       "8    71.747  600.116  600.091\n",
       "9    93.824  600.116  600.119\n",
       "10   95.740  600.103  600.063\n",
       "11  100.755  600.119  541.921\n",
       "12   64.951  600.119  600.071\n",
       "13   65.418  323.820  600.103\n",
       "14   77.155  600.100  600.083\n",
       "15  300.071  351.869  600.051\n",
       "16   62.746  600.103  600.051\n",
       "17   61.043  600.119  600.099\n",
       "18   36.197  600.115  600.119\n",
       "19   65.402  600.099  579.295\n",
       "20   85.855  600.119  600.115"
      ]
     },
     "execution_count": 59,
     "metadata": {},
     "output_type": "execute_result"
    }
   ],
   "source": [
    "df"
   ]
  },
  {
   "cell_type": "code",
   "execution_count": 60,
   "metadata": {},
   "outputs": [
    {
     "data": {
      "text/html": [
       "<div>\n",
       "<style scoped>\n",
       "    .dataframe tbody tr th:only-of-type {\n",
       "        vertical-align: middle;\n",
       "    }\n",
       "\n",
       "    .dataframe tbody tr th {\n",
       "        vertical-align: top;\n",
       "    }\n",
       "\n",
       "    .dataframe thead th {\n",
       "        text-align: right;\n",
       "    }\n",
       "</style>\n",
       "<table border=\"1\" class=\"dataframe\">\n",
       "  <thead>\n",
       "    <tr style=\"text-align: right;\">\n",
       "      <th></th>\n",
       "      <th>Task 1</th>\n",
       "      <th>Task 2</th>\n",
       "      <th>Task 3</th>\n",
       "    </tr>\n",
       "  </thead>\n",
       "  <tbody>\n",
       "    <tr>\n",
       "      <th>count</th>\n",
       "      <td>21.000000</td>\n",
       "      <td>21.000000</td>\n",
       "      <td>21.000000</td>\n",
       "    </tr>\n",
       "    <tr>\n",
       "      <th>mean</th>\n",
       "      <td>98.884571</td>\n",
       "      <td>571.292238</td>\n",
       "      <td>595.514524</td>\n",
       "    </tr>\n",
       "    <tr>\n",
       "      <th>std</th>\n",
       "      <td>62.881100</td>\n",
       "      <td>79.690108</td>\n",
       "      <td>13.542326</td>\n",
       "    </tr>\n",
       "    <tr>\n",
       "      <th>min</th>\n",
       "      <td>33.905000</td>\n",
       "      <td>323.820000</td>\n",
       "      <td>541.921000</td>\n",
       "    </tr>\n",
       "    <tr>\n",
       "      <th>50%</th>\n",
       "      <td>75.502000</td>\n",
       "      <td>600.103000</td>\n",
       "      <td>600.086000</td>\n",
       "    </tr>\n",
       "    <tr>\n",
       "      <th>max</th>\n",
       "      <td>300.071000</td>\n",
       "      <td>600.119000</td>\n",
       "      <td>600.119000</td>\n",
       "    </tr>\n",
       "  </tbody>\n",
       "</table>\n",
       "</div>"
      ],
      "text/plain": [
       "           Task 1      Task 2      Task 3\n",
       "count   21.000000   21.000000   21.000000\n",
       "mean    98.884571  571.292238  595.514524\n",
       "std     62.881100   79.690108   13.542326\n",
       "min     33.905000  323.820000  541.921000\n",
       "50%     75.502000  600.103000  600.086000\n",
       "max    300.071000  600.119000  600.119000"
      ]
     },
     "execution_count": 60,
     "metadata": {},
     "output_type": "execute_result"
    }
   ],
   "source": [
    "df.describe(percentiles = [])"
   ]
  },
  {
   "cell_type": "code",
   "execution_count": 67,
   "metadata": {},
   "outputs": [
    {
     "data": {
      "text/plain": [
       "Task 1     75.502\n",
       "Task 2    600.103\n",
       "Task 3    600.086\n",
       "dtype: float64"
      ]
     },
     "execution_count": 67,
     "metadata": {},
     "output_type": "execute_result"
    }
   ],
   "source": [
    "df.median(axis = 0)"
   ]
  },
  {
   "cell_type": "markdown",
   "metadata": {},
   "source": [
    "### Task 2\n",
    "\n",
    "Generate NASA-TLX boxplot like in Medeiros et al. (2021)"
   ]
  },
  {
   "cell_type": "code",
   "execution_count": 74,
   "metadata": {},
   "outputs": [],
   "source": [
    "# Values from BASE_Study0 - Evaluation_NASA_TLX / Effort felt / Mental Effort column (G, AK, BO)\n",
    "tlx_task1 = [2,1,2,2,1,2,4,2,1,2,2,2,2,2,2,1,1,2,2,3,2,2,1,2,1,2,1,1,2]\n",
    "tlx_task2 = [5,5,4,6,3,5,5,3,6,4,5,4,6,5,4,3,3,6,5,4,4,6,4,6,4,4,6,5,5]\n",
    "tlx_task3 = [5,5,3,5,4,6,4,3,5,5,5,6,6,6,5,4,4,6,4,6,5,5,4,6,3,5,6,3,6]"
   ]
  },
  {
   "cell_type": "code",
   "execution_count": 80,
   "metadata": {},
   "outputs": [
    {
     "data": {
      "image/png": "[encoded data removed]",
      "text/plain": [
       "<Figure size 640x480 with 1 Axes>"
      ]
     },
     "metadata": {},
     "output_type": "display_data"
    }
   ],
   "source": [
    "bplot = plt.boxplot([tlx_task1, tlx_task2, tlx_task3], vert = True, patch_artist = True, labels = ['Task 1', 'Task 2', 'Task 3'])\n",
    "plt.ylim(1, 6)\n",
    "plt.ylabel('NASA-TLX Mental Effort Score')\n",
    "colors = ['pink', 'lightblue', 'lightgreen']\n",
    "for patch, color in zip(bplot['boxes'], colors):\n",
    "    patch.set_facecolor(color)"
   ]
  }
 ],
 "metadata": {
  "kernelspec": {
   "display_name": "venv",
   "language": "python",
   "name": "python3"
  },
  "language_info": {
   "codemirror_mode": {
    "name": "ipython",
    "version": 3
   },
   "file_extension": ".py",
   "mimetype": "text/x-python",
   "name": "python",
   "nbconvert_exporter": "python",
   "pygments_lexer": "ipython3",
   "version": "3.10.11"
  },
  "orig_nbformat": 4
 },
 "nbformat": 4,
 "nbformat_minor": 2
}
