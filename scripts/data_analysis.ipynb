{
 "cells": [
  {
   "attachments": {},
   "cell_type": "markdown",
   "metadata": {},
   "source": [
    "# Data Analysis Script\n",
    "\n",
    "### Preprocessing\n",
    "\n",
    "**Goals:**\n",
    "1. Import EEG data from EEGLAB\n",
    "2. Filter data as is done in the Medeiros et al. (2021) work\n",
    "    1. High-pass filter of 1 Hz\n",
    "    2. Low-pass filter of 90 Hz\n",
    "    3. Notch filter at 50 Hz\n",
    "3. Interpolate data - spherical spline interpolation by Perrin et al. \n",
    "        -> bad channel labelling would be manual in this case\n",
    "4. Re-reference \n",
    "\n",
    "Done outside of this notebook in the `preprocessing.py` file for better performance."
   ]
  },
  {
   "attachments": {},
   "cell_type": "markdown",
   "metadata": {},
   "source": [
    "### Data exploration\n",
    "\n",
    "**Before data exploration:** take individual studies and assemble them into one database / file\n",
    "\n",
    "**Plan for analysis:**\n",
    "1. Blind-source-separation (ICA):\n",
    "    * test whether removing more components leads to signal loss (PCA component analysis)\n",
    "    * test if the removal of more components makes it impossible to differentiate the classes (PCA component analysis)\n",
    "    * compute neural activation maps per task / control to see if there are different in amplitude \n",
    "    * plot power spectrum / time-frequency plots to show if there is a data loss / difference after ICA\n",
    "2. Feature extraction tactics - analyse Pearson correlation/similarity (?) metric across # of segments"
   ]
  }
 ],
 "metadata": {
  "kernelspec": {
   "display_name": "venv",
   "language": "python",
   "name": "python3"
  },
  "language_info": {
   "codemirror_mode": {
    "name": "ipython",
    "version": 3
   },
   "file_extension": ".py",
   "mimetype": "text/x-python",
   "name": "python",
   "nbconvert_exporter": "python",
   "pygments_lexer": "ipython3",
   "version": "3.10.8"
  },
  "orig_nbformat": 4
 },
 "nbformat": 4,
 "nbformat_minor": 2
}
