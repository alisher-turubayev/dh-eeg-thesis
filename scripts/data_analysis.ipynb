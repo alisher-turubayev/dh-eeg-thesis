{
 "cells": [
  {
   "attachments": {},
   "cell_type": "markdown",
   "metadata": {},
   "source": [
    "# Data Analysis Script\n",
    "\n",
    "**Goals:**\n",
    "1. Import EEG data from EEGLAB\n",
    "2. Filter data as is done in the Medeiros et al. (2021) work\n",
    "    1. High-pass filter of 1 Hz\n",
    "    2. Low-pass filter of 90 Hz\n",
    "    3. Notch filter at 50 Hz\n",
    "3. Interpolate data - spherical spline interpolation by Perrin et al.\n",
    "4. Re-reference \n",
    "5. Blind-source-separation (ICA) "
   ]
  },
  {
   "cell_type": "code",
   "execution_count": null,
   "metadata": {},
   "outputs": [],
   "source": [
    "# Import required libraries\n",
    "import mne\n",
    "import matplotlib as plt"
   ]
  },
  {
   "cell_type": "code",
   "execution_count": null,
   "metadata": {},
   "outputs": [],
   "source": [
    "# Set paths to data and other things\n",
    "data_path = '~/Git/Thesis/thesis_data_transformed/S01/'\n",
    "filename = 'S01R01.set'"
   ]
  },
  {
   "cell_type": "code",
   "execution_count": null,
   "metadata": {},
   "outputs": [],
   "source": [
    "# Import data from EEGLAB\n",
    "raw_data = mne.io.read_raw_eeglab(data_path + filename)\n",
    "# Set four channel types (HEOG, VEOG, EMG, ECG) to non-EEG signal for setting montage later\n",
    "chan_types = {'HEO': 'eog', 'VEO': 'eog', 'EMG': 'emg', 'EKG': 'ecg'}\n",
    "\n",
    "raw_data.set_channel_types(chan_types)\n",
    "# Add channel location information\n",
    "raw_data.set_montage('standard_1020', match_alias = True, match_case = False)"
   ]
  },
  {
   "attachments": {},
   "cell_type": "markdown",
   "metadata": {},
   "source": [
    "Filtering (high, low, notch)"
   ]
  },
  {
   "cell_type": "code",
   "execution_count": null,
   "metadata": {},
   "outputs": [],
   "source": [
    "# Plot PSD before filtering\n",
    "raw_data.compute_psd(fmax = 100).plot()"
   ]
  },
  {
   "cell_type": "code",
   "execution_count": null,
   "metadata": {},
   "outputs": [],
   "source": [
    "# Filter high-pass, low-pass and notch\n",
    "raw_data_filtered = raw_data.copy().filter(l_freq = 1, h_freq = 90)\n",
    "raw_data_filtered.notch_filter(freqs = 50)\n",
    "\n",
    "raw_data_filtered.compute_psd(fmax = 100).plot()"
   ]
  },
  {
   "attachments": {},
   "cell_type": "markdown",
   "metadata": {},
   "source": [
    "Interpolation (Pirrin et al.)"
   ]
  },
  {
   "cell_type": "code",
   "execution_count": null,
   "metadata": {},
   "outputs": [],
   "source": [
    "raw_data_filtered.interpolate_bads(reset_bads = False)"
   ]
  }
 ],
 "metadata": {
  "kernelspec": {
   "display_name": "venv",
   "language": "python",
   "name": "python3"
  },
  "language_info": {
   "codemirror_mode": {
    "name": "ipython",
    "version": 3
   },
   "file_extension": ".py",
   "mimetype": "text/x-python",
   "name": "python",
   "nbconvert_exporter": "python",
   "pygments_lexer": "ipython3",
   "version": "3.10.8"
  },
  "orig_nbformat": 4
 },
 "nbformat": 4,
 "nbformat_minor": 2
}
